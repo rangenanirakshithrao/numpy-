{
 "cells": [
  {
   "cell_type": "code",
   "execution_count": null,
   "metadata": {},
   "outputs": [],
   "source": [
    "#Data analysis:-cleansing and modelling the data\n",
    "#python provides various libraries which are used for data analysis,data manipulation as well as for data visualisation\n",
    "#1)numpy:-this is mainley used for scientific computing\n"
   ]
  },
  {
   "cell_type": "code",
   "execution_count": 13,
   "metadata": {},
   "outputs": [
    {
     "name": "stdout",
     "output_type": "stream",
     "text": [
      "Requirement already satisfied: numpy in c:\\users\\rakshith\\anaconda3\\lib\\site-packages (1.19.2)\n",
      "Note: you may need to restart the kernel to use updated packages.\n"
     ]
    }
   ],
   "source": [
    "\n",
    "pip install numpy"
   ]
  },
  {
   "cell_type": "code",
   "execution_count": 16,
   "metadata": {},
   "outputs": [],
   "source": [
    "import numpy as np\n"
   ]
  },
  {
   "cell_type": "code",
   "execution_count": 17,
   "metadata": {},
   "outputs": [],
   "source": [
    "#creating a array\n",
    "lst=[1,2,3,4,5,6,7,8,9]\n",
    "arr=np.array(lst)"
   ]
  },
  {
   "cell_type": "code",
   "execution_count": 18,
   "metadata": {},
   "outputs": [
    {
     "name": "stdout",
     "output_type": "stream",
     "text": [
      "[1 2 3 4 5 6 7 8 9]\n"
     ]
    }
   ],
   "source": [
    "print(arr)"
   ]
  },
  {
   "cell_type": "code",
   "execution_count": 19,
   "metadata": {},
   "outputs": [
    {
     "name": "stdout",
     "output_type": "stream",
     "text": [
      "[[1 2 3 4 0]\n",
      " [5 6 7 8 9]]\n"
     ]
    }
   ],
   "source": [
    "#creating a 2 dimensional array\n",
    "lst1=[1,2,3,4,0],[5,6,7,8,9]\n",
    "arr1=np.array(lst1)\n",
    "print(arr1)"
   ]
  },
  {
   "cell_type": "code",
   "execution_count": 22,
   "metadata": {},
   "outputs": [
    {
     "data": {
      "text/plain": [
       "2"
      ]
     },
     "execution_count": 22,
     "metadata": {},
     "output_type": "execute_result"
    }
   ],
   "source": [
    "#dimensions of a array\n",
    "arr1.ndim"
   ]
  },
  {
   "cell_type": "code",
   "execution_count": 23,
   "metadata": {},
   "outputs": [
    {
     "data": {
      "text/plain": [
       "(2, 5)"
      ]
     },
     "execution_count": 23,
     "metadata": {},
     "output_type": "execute_result"
    }
   ],
   "source": [
    "#shape of a array\n",
    "arr1.shape"
   ]
  },
  {
   "cell_type": "code",
   "execution_count": 26,
   "metadata": {},
   "outputs": [
    {
     "name": "stdout",
     "output_type": "stream",
     "text": [
      "int32\n"
     ]
    }
   ],
   "source": [
    "#data type of array\n",
    "print(arr1.dtype)"
   ]
  },
  {
   "cell_type": "code",
   "execution_count": 31,
   "metadata": {},
   "outputs": [
    {
     "name": "stdout",
     "output_type": "stream",
     "text": [
      "[[0. 0. 0. 0.]\n",
      " [0. 0. 0. 0.]\n",
      " [0. 0. 0. 0.]\n",
      " [0. 0. 0. 0.]\n",
      " [0. 0. 0. 0.]\n",
      " [0. 0. 0. 0.]]\n",
      "[[1. 1. 1. 1. 1.]\n",
      " [1. 1. 1. 1. 1.]\n",
      " [1. 1. 1. 1. 1.]]\n"
     ]
    }
   ],
   "source": [
    "#to print ones and zeros\n",
    "zeroarr=np.zeros((6,4))\n",
    "print(zeroarr)\n",
    "onearr=np.ones((3,5))\n",
    "print(onearr)"
   ]
  },
  {
   "cell_type": "code",
   "execution_count": 32,
   "metadata": {},
   "outputs": [
    {
     "data": {
      "text/plain": [
       "array([[0., 0., 0.],\n",
       "       [0., 0., 0.]])"
      ]
     },
     "execution_count": 32,
     "metadata": {},
     "output_type": "execute_result"
    }
   ],
   "source": [
    "#creating an empty array\n",
    "mty=np.empty((2,3))\n",
    "mty"
   ]
  },
  {
   "cell_type": "code",
   "execution_count": 34,
   "metadata": {},
   "outputs": [
    {
     "data": {
      "text/plain": [
       "array([2, 3, 4, 5, 6, 7, 8])"
      ]
     },
     "execution_count": 34,
     "metadata": {},
     "output_type": "execute_result"
    }
   ],
   "source": [
    "#to print a range of values\n",
    "np.arange(2,9)"
   ]
  },
  {
   "cell_type": "code",
   "execution_count": 35,
   "metadata": {},
   "outputs": [
    {
     "data": {
      "text/plain": [
       "array([[1., 0., 0., 0., 0., 0.],\n",
       "       [0., 1., 0., 0., 0., 0.],\n",
       "       [0., 0., 1., 0., 0., 0.],\n",
       "       [0., 0., 0., 1., 0., 0.],\n",
       "       [0., 0., 0., 0., 1., 0.]])"
      ]
     },
     "execution_count": 35,
     "metadata": {},
     "output_type": "execute_result"
    }
   ],
   "source": [
    "#to print a identity matrix\n",
    "np.eye(5,6)"
   ]
  },
  {
   "cell_type": "code",
   "execution_count": 37,
   "metadata": {},
   "outputs": [
    {
     "data": {
      "text/plain": [
       "array([ 1.24234464,  0.24720008,  1.80128317,  0.11702851,  0.795857  ,\n",
       "       -1.13422949])"
      ]
     },
     "execution_count": 37,
     "metadata": {},
     "output_type": "execute_result"
    }
   ],
   "source": [
    "#pseudo random number generation\n",
    "sample=np.random.randn(6)\n",
    "sample"
   ]
  },
  {
   "cell_type": "code",
   "execution_count": 43,
   "metadata": {},
   "outputs": [
    {
     "data": {
      "text/plain": [
       "array([[-0.53119249,  2.95699194,  1.14146244,  0.93161537,  1.67776721],\n",
       "       [ 0.04594452, -1.16433143,  1.64207887,  0.29317058,  0.2981657 ]])"
      ]
     },
     "execution_count": 43,
     "metadata": {},
     "output_type": "execute_result"
    }
   ],
   "source": [
    "#reshape a array\n",
    "np.random.randn(10).reshape(2,5)"
   ]
  },
  {
   "cell_type": "code",
   "execution_count": 54,
   "metadata": {},
   "outputs": [
    {
     "name": "stdout",
     "output_type": "stream",
     "text": [
      "[1 2 3 4 0]\n",
      "2\n"
     ]
    }
   ],
   "source": [
    "#indexing a array\n",
    "\n",
    "print(arr1[0])\n",
    "print(arr1[0][1])"
   ]
  },
  {
   "cell_type": "code",
   "execution_count": 56,
   "metadata": {},
   "outputs": [
    {
     "name": "stdout",
     "output_type": "stream",
     "text": [
      "[1 2]\n"
     ]
    }
   ],
   "source": [
    "#slicing a array\n",
    "print(arr[0:2])"
   ]
  },
  {
   "cell_type": "code",
   "execution_count": 68,
   "metadata": {},
   "outputs": [
    {
     "name": "stdout",
     "output_type": "stream",
     "text": [
      "4.5\n",
      "4.5\n",
      "0\n",
      "9\n",
      "45\n",
      "[ 1  3  6 10 10 15 21 28 36 45]\n",
      "2.8722813232690143\n",
      "[ 1  2  6 24  0  0  0  0  0  0]\n",
      "[[1.         1.41421356 1.73205081 2.         0.        ]\n",
      " [2.23606798 2.44948974 2.64575131 2.82842712 3.        ]]\n",
      "[[2.71828183e+00 7.38905610e+00 2.00855369e+01 5.45981500e+01\n",
      "  1.00000000e+00]\n",
      " [1.48413159e+02 4.03428793e+02 1.09663316e+03 2.98095799e+03\n",
      "  8.10308393e+03]]\n",
      "[[1 2 3 4 0]\n",
      " [5 6 7 8 9]]\n",
      "[[ 1  4  9 16  0]\n",
      " [25 36 49 64 81]]\n",
      "[[1. 2. 3. 4. 0.]\n",
      " [5. 6. 7. 8. 9.]]\n",
      "[[1. 2. 3. 4. 0.]\n",
      " [5. 6. 7. 8. 9.]]\n",
      "@@@@@@@\n"
     ]
    }
   ],
   "source": [
    "#mathematical methods in numpy\n",
    "print(np.mean(arr1))\n",
    "print(np.median(arr1))\n",
    "print(np.min(arr1))\n",
    "print(np.max(arr1))\n",
    "print(np.sum(arr1))\n",
    "\n",
    "print(np.cumsum(arr1))\n",
    "print(np.std(arr1))\n",
    "print(np.cumprod(arr1))\n",
    "\n",
    "print(np.sqrt(arr1))\n",
    "print(np.exp(arr1))\n",
    "print(np.abs(arr1))\n",
    "print(np.square(arr1))\n",
    "print(np.rint(arr1))\n",
    "print(np.ceil(arr1))\n",
    "print(\"@@@@@@@\")"
   ]
  },
  {
   "cell_type": "code",
   "execution_count": 69,
   "metadata": {},
   "outputs": [
    {
     "data": {
      "text/plain": [
       "array([[0, 1, 2, 3, 4],\n",
       "       [5, 6, 7, 8, 9]])"
      ]
     },
     "execution_count": 69,
     "metadata": {},
     "output_type": "execute_result"
    }
   ],
   "source": [
    "#sorting in numpy\n",
    "np.sort(arr1)"
   ]
  },
  {
   "cell_type": "code",
   "execution_count": null,
   "metadata": {},
   "outputs": [],
   "source": []
  }
 ],
 "metadata": {
  "kernelspec": {
   "display_name": "Python 3",
   "language": "python",
   "name": "python3"
  },
  "language_info": {
   "codemirror_mode": {
    "name": "ipython",
    "version": 3
   },
   "file_extension": ".py",
   "mimetype": "text/x-python",
   "name": "python",
   "nbconvert_exporter": "python",
   "pygments_lexer": "ipython3",
   "version": "3.8.5"
  }
 },
 "nbformat": 4,
 "nbformat_minor": 4
}
